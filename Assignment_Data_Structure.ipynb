{
  "nbformat": 4,
  "nbformat_minor": 0,
  "metadata": {
    "colab": {
      "provenance": []
    },
    "kernelspec": {
      "name": "python3",
      "display_name": "Python 3"
    },
    "language_info": {
      "name": "python"
    }
  },
  "cells": [
    {
      "cell_type": "code",
      "execution_count": null,
      "metadata": {
        "id": "j66lwy9FTSw6"
      },
      "outputs": [],
      "source": []
    },
    {
      "cell_type": "markdown",
      "source": [
        "1. What are data structures, and why are they important?\n",
        "\n",
        "-->\n",
        "Data structures are organized ways to store, manage, and retrieve data efficiently. They are important because they optimize performance for tasks like searching, sorting, and data manipulation, making software faster, scalable, and easier to manage. Examples include arrays, linked lists, stacks, and trees.\n",
        "\n",
        "\n"
      ],
      "metadata": {
        "id": "UL2T4cDGUI4u"
      }
    },
    {
      "cell_type": "markdown",
      "source": [
        "2. Explain the difference between mutable and immutable data types with examples.\n",
        "\n",
        "### Difference Between Mutable and Immutable Data Types:\n",
        "\n",
        "1. mutable data types\n",
        "   - Can be modified after creation.  \n",
        "   - Examples: list, sets .\n",
        "   - Example:  \n",
        "     ```python\n",
        "     my_list = [1, 2, 3]\n",
        "     my_list[0] = 4  # Modifies the list\n",
        "     print(my_list)  # Output: [4, 2, 3]\n",
        "     ```\n",
        "\n",
        "2. immutable data types*:  \n",
        "   - Cannot be changed after creation.  \n",
        "   - Examples: tuples, strings, integers.  \n",
        "   - Example:  \n",
        "     ```python\n",
        "     my_string = \"hello\"\n",
        "     my_string[0] = 'H'  # Raises an error because strings are immutable.\n",
        "     ```"
      ],
      "metadata": {
        "id": "rbaQKXw0av10"
      }
    },
    {
      "cell_type": "markdown",
      "source": [
        "3. What are the main differences between lists and tuples in Python?\n",
        "\n",
        "-->\n",
        "\n",
        "difference between lists and tuples\n",
        "1. mutability: Lists are mutable; tuples are immutable.  \n",
        "2.Synatax: Lists use `[ ]`, tuples use `( )`.  \n",
        "3. performance: Tuples are faster than lists.  \n",
        "4. usage: Lists are for dynamic data, tuples for fixed data.  \n",
        "\n",
        "example\n",
        "```python\n",
        "my_list = [1, 2, 3]  # Mutable\n",
        "my_tuple = (1, 2, 3)  # Immutable\n",
        "```\n"
      ],
      "metadata": {
        "id": "rYUrZEVUch6T"
      }
    },
    {
      "cell_type": "markdown",
      "source": [
        "4. Describe how dictionaries store data?\n",
        "\n",
        "-->\n",
        "\n",
        "Dictionaries in Python store data as key-value pairs. Each key acts as a unique identifier for its associated value. Internally, Python uses a hash table to store dictionaries.  \n",
        "\n",
        "1. keys: Must be immutable (e.g., strings, numbers, tuples) and unique.  \n",
        "2. values: Can be any data type and need not be unique.  \n",
        "\n",
        "When accessing a value, the key is hashed to locate its corresponding value efficiently, enabling fast lookups.  \n",
        "\n",
        "Example:  \n",
        "```python\n",
        "my_dict = {\"name\": \"Alice\", \"age\": 25}\n",
        "print(my_dict[\"name\"])  # Output: Alice\n",
        "```  "
      ],
      "metadata": {
        "id": "EslIh16Qe2ZN"
      }
    },
    {
      "cell_type": "markdown",
      "source": [
        "5. Why might you use a set instead of a list in Python?\n",
        "\n",
        "-->\n",
        "\n",
        "1. Unique Elements: Sets automatically remove duplicate elements, ensuring all items are unique.  \n",
        "2. Fater operation: Sets provide faster performance for membership tests (using `in`) and set operations like union, intersection, and difference.  \n",
        "3. Unordered Data: When you do not need to maintain the order of elements.  \n",
        "\n",
        "Example:  \n",
        "```python\n",
        "my_list = [1, 2, 2, 3]\n",
        "my_set = set(my_list)  # Removes duplicates\n",
        "print(my_set)  # Output: {1, 2, 3}\n",
        "```"
      ],
      "metadata": {
        "id": "ga0pwABBfU0S"
      }
    },
    {
      "cell_type": "markdown",
      "source": [
        "6. What is a string in Python, and how is it different from a list?\n",
        "\n",
        "-->\n",
        "\n",
        "A string in Python is a sequence of characters enclosed in quotes (either single or double). It is used to represent text data.\n",
        "\n",
        "Differences Between Strings and Lists:\n",
        "\n",
        "1. Mutability: Strings are immutable (cannot be changed after creation), while lists are mutable (can be modified).\n",
        "2. Data Types: Strings store only characters, whereas lists can store any type of data, including numbers, strings, and other objects.\n",
        "3. Operation: Strings have string-specific methods like `.upper()`, `.lower()`, while lists have methods like `.append()` and `.remove()`.\n",
        "\n",
        " Example:\n",
        "```python\n",
        "my_string = \"hello\"  # Immutable\n",
        "my_list = [1, 2, 3]  # Mutable\n",
        "```"
      ],
      "metadata": {
        "id": "9nFdnsTWfpmS"
      }
    },
    {
      "cell_type": "markdown",
      "source": [
        "7. How do tuples ensure data integrity in Python?\n",
        "\n",
        "-->\n",
        "\n",
        "Tuples ensure data integrity in Python by being immutable. Once a tuple is created, its elements cannot be changed, added, or removed. This immutability prevents accidental modifications, ensuring that the data remains consistent throughout the program. As a result, tuples are often used for fixed, unchanging data, ensuring reliability and integrity in such cases."
      ],
      "metadata": {
        "id": "NlAlk3x2gFZ7"
      }
    },
    {
      "cell_type": "markdown",
      "source": [
        "8. What is a hash table, and how does it relate to dictionaries in Python?\n",
        "\n",
        "-->\n",
        "\n",
        " A hash table is a data structure that stores key-value pairs, using a hash function to map keys to specific locations in memory. In Python, dictionaries use hash tables to store and retrieve data efficiently. The key is hashed, and the resulting value determines where the corresponding data is stored, allowing for fast lookups."
      ],
      "metadata": {
        "id": "Fvx_0K6qgjho"
      }
    },
    {
      "cell_type": "markdown",
      "source": [
        "9. Can lists contain different data types in Python?\n",
        "\n",
        "-->\n",
        "\n",
        "Yes, lists in Python can contain different data types. A single list can store integers, strings, floats, and even other lists or objects. This flexibility allows lists to hold heterogeneous data in the same structure."
      ],
      "metadata": {
        "id": "SDCXNgFrgvZ_"
      }
    },
    {
      "cell_type": "markdown",
      "source": [
        "10.  Explain why strings are immutable in Python?\n",
        "\n",
        "-->\n",
        "\n",
        "Strings are immutable in Python to ensure data integrity, optimize performance, and support memory efficiency. When a string is created, its value cannot be changed. If modification is attempted, a new string is created. This immutability allows for safer handling of strings, especially in multi-threaded environments, where preventing accidental changes helps avoid errors. It also enables Python to optimize memory usage by reusing immutable string objects."
      ],
      "metadata": {
        "id": "FkaXoiDzg6JL"
      }
    },
    {
      "cell_type": "markdown",
      "source": [
        "11. What advantages do dictionaries offer over lists for certain tasks?\n",
        "\n",
        "-->\n",
        "\n",
        "Dictionaries offer several advantages over lists for certain tasks:\n",
        "\n",
        "Faster lookups: Accessing values by key in a dictionary is faster (O(1) time complexity) compared to searching through a list (O(n) time complexity).\n",
        "Key-value pairs: Dictionaries store data as key-value pairs, making it easier to represent and access related data.\n",
        "Unique keys: Dictionaries ensure that keys are unique, preventing duplicates, while lists allow repeated elements."
      ],
      "metadata": {
        "id": "lscLy_XThFqe"
      }
    },
    {
      "cell_type": "markdown",
      "source": [
        "12. Describe a scenario where using a tuple would be preferable over a list?\n",
        "\n",
        "-->\n",
        "\n",
        "A tuple is preferable over a list when the data should remain constant and unmodifiable. For example, when storing geographic coordinates (latitude, longitude), you wouldn't want these values to be accidentally changed. Since tuples are immutable, they ensure data integrity and prevent any modifications after creation.\n"
      ],
      "metadata": {
        "id": "aCfWbNMDhPQf"
      }
    },
    {
      "cell_type": "markdown",
      "source": [
        "13. How do sets handle duplicate values in Python?\n",
        "\n",
        "-->\n",
        "\n",
        "Sets in Python automatically remove duplicate values. When you try to add a duplicate value to a set, it is ignored. This ensures that all elements in a set are unique.\n"
      ],
      "metadata": {
        "id": "GB2UGNZVhXSi"
      }
    },
    {
      "cell_type": "markdown",
      "source": [
        "14. How does the “in” keyword work differently for lists and dictionaries?\n",
        "\n",
        "-->\n",
        "\n",
        "The \"in\" keyword works differently for lists and dictionaries:\n",
        "\n",
        "1. For Lists: The \"in\" keyword checks if a value exists in the list. It searches through each element in the list.\n",
        "\n",
        "2. For Dictionaries: The \"in\" keyword checks if a key exists in the dictionary, not the value.\n",
        "   "
      ],
      "metadata": {
        "id": "FJGQ7WGBhenT"
      }
    },
    {
      "cell_type": "markdown",
      "source": [
        "15. Can you modify the elements of a tuple? Explain why or why not?\n",
        "\n",
        "-->\n",
        "\n",
        "No, you cannot modify the elements of a tuple because tuples are immutable in Python. Once a tuple is created, its contents cannot be changed, added, or removed. This immutability ensures data integrity and prevents accidental changes, making tuples suitable for fixed data that should remain constant throughout the program."
      ],
      "metadata": {
        "id": "PHJSgQ7mh3Gg"
      }
    },
    {
      "cell_type": "markdown",
      "source": [
        "16. What is a nested dictionary, and give an example of its use case?\n",
        "\n",
        "-->\n",
        "\n",
        "\n",
        "A nested dictionary is a dictionary where the values themselves are dictionaries. This allows for organizing hierarchical data and representing more complex structures.\n",
        "\n",
        "Use case:\n",
        "A nested dictionary can be used to store information about multiple students, where each student has their own details such as name, age, and subjects."
      ],
      "metadata": {
        "id": "_A2Mrr1jh-Pi"
      }
    },
    {
      "cell_type": "markdown",
      "source": [
        "17. Describe the time complexity of accessing elements in a dictionary?\n",
        "\n",
        "-->\n",
        "\n",
        "The time complexity of accessing elements in a dictionary is O(1)**, also known as constant time. This means that no matter how large the dictionary is, the time to access an element using its key remains the same.\n",
        "\n",
        "Dictionaries use a hash table to store key-value pairs, where the key is hashed, and the corresponding value is retrieved directly from the computed location. This allows for fast lookups without having to search through all the entries."
      ],
      "metadata": {
        "id": "Y-HNGoR2iRy2"
      }
    },
    {
      "cell_type": "markdown",
      "source": [
        "18. In what situations are lists preferred over dictionaries?\n",
        "\n",
        "-->\n",
        "\n",
        "Lists are preferred over dictionaries in situations where:\n",
        "\n",
        "Order Matters: Lists maintain the order of elements, making them ideal when the sequence of data is important.\n",
        "Indexed Data: When you need to access elements by their position (index) rather than by a unique key.\n",
        "Homogeneous Data: Lists are better when you have a collection of similar data types, as dictionaries store key-value pairs, which are more suited for heterogeneous data."
      ],
      "metadata": {
        "id": "uh7Q_WZsidMA"
      }
    },
    {
      "cell_type": "markdown",
      "source": [
        "19. Why are dictionaries considered unordered, and how does that affect data retrieval?\n",
        "\n",
        "-->\n",
        "\n",
        "Dictionaries are considered unordered because, in Python versions before 3.7, the order of key-value pairs in a dictionary is not guaranteed to be preserved. However, starting from Python 3.7, dictionaries maintain insertion order but still do not define an order based on the keys or values themselves.\n",
        "\n",
        "This affects data retrieval in the sense that:\n",
        "- You cannot rely on the order of keys or values when iterating through a dictionary (although order is now preserved in recent Python versions).\n",
        "- Data retrieval is done using keys, which are hashed, making access fast and efficient regardless of the order.\n",
        "\n",
        "In summary, dictionaries prioritize fast key-based lookups, but their internal order doesn't impact how data is retrieved."
      ],
      "metadata": {
        "id": "8N74i5g8i49U"
      }
    },
    {
      "cell_type": "markdown",
      "source": [
        "20. Explain the difference between a list and a dictionary in terms of data retrieval.\n",
        "\n",
        "-->\n",
        "\n",
        "The difference between a list and a dictionary in terms of data retrieval:\n",
        "\n",
        "1. List:  \n",
        "   - Data is retrieved by index.  \n",
        "   - The index is an integer representing the position of an element in the list.\n",
        "   - Accessing elements requires iterating through the list until the desired index is reached, which can be slower for large lists.\n",
        "   - Example:  \n",
        "     ```python\n",
        "     my_list = [10, 20, 30]\n",
        "     print(my_list[1])  # Output: 20\n",
        "     ```\n",
        "\n",
        "2. Dictionary:  \n",
        "   - Data is retrieved by key.  \n",
        "   - Each element in a dictionary is a key-value pair, and keys are unique identifiers.\n",
        "   - Accessing values by key is much faster (O(1) time complexity) because dictionaries use hashing for fast lookups.\n",
        "   - Example:  \n",
        "     ```python\n",
        "     my_dict = {\"a\": 1, \"b\": 2}\n",
        "     print(my_dict[\"b\"])  # Output: 2\n",
        "     ```\n",
        "\n",
        "In summary, lists are indexed by position, and dictionaries are indexed by unique keys, with dictionaries providing faster access for large datasets.\n"
      ],
      "metadata": {
        "id": "JC4rma30jAqk"
      }
    },
    {
      "cell_type": "markdown",
      "source": [
        "**PRACTICAL QUESTION**\n",
        "\n",
        "\n",
        "\n",
        "\n"
      ],
      "metadata": {
        "id": "TTtoZSJzj-SD"
      }
    },
    {
      "cell_type": "markdown",
      "source": [
        "1. Write a code to create a string with your name and print it?\n",
        "\n",
        "-->\n",
        "\n",
        "                       name = \"Roshan\n",
        "                       print(name)"
      ],
      "metadata": {
        "id": "cd9LhEC3muk6"
      }
    },
    {
      "cell_type": "markdown",
      "source": [
        "2. Write a code to find the length of the string \"Hello World\"?\n",
        "                    string = \"Roshan\"\n",
        "                    length = len(string)\n",
        "                    print(lenght)\n",
        "                "
      ],
      "metadata": {
        "id": "AYKh74n2nUUd"
      }
    },
    {
      "cell_type": "markdown",
      "source": [
        "3. Write a code to slice the first 3 characters from the string \"Python Programming\"?\n",
        "\n",
        "\n",
        "                  my_string = \"Python Programming\"\n",
        "\n",
        "                    sliced_string = my_string[:3]\n",
        "\n",
        "                      print(sliced_string)\n"
      ],
      "metadata": {
        "id": "8xTI0kgQoPJ1"
      }
    },
    {
      "cell_type": "markdown",
      "source": [
        "4. Write a code to convert the string \"hello\" to uppercase?\n",
        "                   \n",
        "                  my_string = \"hello\"\n",
        "           uppercase_string = my_string.upper()\n",
        "                print(uppercase_string)\n"
      ],
      "metadata": {
        "id": "rLZfD_tgoZBp"
      }
    },
    {
      "cell_type": "markdown",
      "source": [
        "5. Write a code to replace the word \"apple\" with \"orange\" in the string \"I like apple\"?\n",
        "\n",
        "                     \n",
        "                  my_string = \"I like apple\"\n",
        "           new_string = my_string.replace(\"apple\", \"orange\")\n",
        "                     print(new_string)\n"
      ],
      "metadata": {
        "id": "er4LsIJyol5C"
      }
    },
    {
      "cell_type": "markdown",
      "source": [
        "6. Write a code to create a list with numbers 1 to 5 and print it?\n",
        "           \n",
        "               my_list = [1, 2, 3, 4, 5]     \n",
        "                   print(my_list)\n"
      ],
      "metadata": {
        "id": "Ay9rl8EgoyC5"
      }
    },
    {
      "cell_type": "markdown",
      "source": [
        "7.  Write a code to append the number 10 to the list [1, 2, 3, 4]?\n",
        "          \n",
        "                  my_list = [1, 2, 3, 4]\n",
        "                  my_list.append(10)\n",
        "                  print(my_list)\n"
      ],
      "metadata": {
        "id": "bhCtmSfno75o"
      }
    },
    {
      "cell_type": "markdown",
      "source": [
        "8. Write a code to remove the number 3 from the list [1, 2, 3, 4, 5]?\n",
        "\n",
        "\n",
        "                     my_list = [1, 2, 3, 4, 5]\n",
        "                     my_list.remove(3)\n",
        "                     print(my_list)\n"
      ],
      "metadata": {
        "id": "XkgoITsCpGex"
      }
    },
    {
      "cell_type": "markdown",
      "source": [
        "9. Write a code to access the second element in the list ['a', 'b', 'c', 'd']?\n",
        "\n",
        "        \n",
        "                 my_list = ['a', 'b', 'c', 'd']\n",
        "                 second_element = my_list[1]\n",
        "                 print(second_element)\n"
      ],
      "metadata": {
        "id": "mS0stiUUrH01"
      }
    },
    {
      "cell_type": "markdown",
      "source": [
        "10 . Write a code to reverse the list [10, 20, 30, 40, 50].\n",
        "\n",
        "-->\n",
        "\n",
        "\n",
        "            my_list = [10, 20, 30, 40, 50]\n",
        "            my_list.reverse()\n",
        "            print(my_list)\n"
      ],
      "metadata": {
        "id": "z6HkV1p6tiVK"
      }
    },
    {
      "cell_type": "markdown",
      "source": [
        "11. Write a code to create a tuple with the elements 10, 20, 30 and print it.\n",
        "\n",
        "-->\n",
        "\n",
        "            my_tuple = (10, 20, 30)\n",
        "            print(my_tuple)\n"
      ],
      "metadata": {
        "id": "mk80RSprt2E7"
      }
    },
    {
      "cell_type": "markdown",
      "source": [
        "12. Write a code to access the first element of the tuple ('apple', 'banana', 'cherry').\n",
        "\n",
        "-->\n",
        "\n",
        "              my_tuple = ('apple', 'banana', 'cherry')  \n",
        "                          first_element = my_tuple[0]\n",
        "              print(first_element)\n"
      ],
      "metadata": {
        "id": "sXbtwAhBuDwi"
      }
    },
    {
      "cell_type": "markdown",
      "source": [
        "13. Write a code to count how many times the number 2 appears in the tuple (1, 2, 3, 2, 4, 2).\n",
        "\n",
        "-->\n",
        "\n",
        "\n",
        "             my_tuple = (1, 2, 3, 2, 4, 2)\n",
        "             count_2 = my_tuple.count(2)\n",
        "                print(count_2)\n"
      ],
      "metadata": {
        "id": "AmatFBFVuTs2"
      }
    },
    {
      "cell_type": "markdown",
      "source": [
        "14.  Write a code to find the index of the element \"cat\" in the tuple ('dog', 'cat', 'rabbit').\n",
        "\n",
        "-->\n",
        "\n",
        "         \n",
        "             my_tuple = ('dog', 'cat', 'rabbit')\n",
        "             index_cat = my_tuple.index('cat')\n",
        "              print(index_cat)\n"
      ],
      "metadata": {
        "id": "84S6ollcvSuI"
      }
    },
    {
      "cell_type": "markdown",
      "source": [
        "15. Write a code to check if the element \"banana\" is in the tuple ('apple', 'orange', 'banana').\n",
        "\n",
        "-->\n",
        "\n",
        "\n",
        "              my_tuple = ('apple', 'orange', 'banana')\n",
        "              if 'banana' in my_tuple:\n",
        "              print(\"Yes, 'banana' is in the tuple.\")\n",
        "                else:\n",
        "                print(\"No, 'banana' is not in the tuple.\")\n"
      ],
      "metadata": {
        "id": "A0TZFQwtvwwO"
      }
    },
    {
      "cell_type": "markdown",
      "source": [
        "16.  Write a code to create a set with the elements 1, 2, 3, 4, 5 and print it.\n",
        "\n",
        "-->\n",
        "\n",
        "                 my_set = {1, 2, 3, 4, 5}\n",
        "                 print(my_set)\n",
        "\n",
        "\n"
      ],
      "metadata": {
        "id": "Yn1p6dLkwEBD"
      }
    },
    {
      "cell_type": "markdown",
      "source": [
        "17. Write a code to add the element 6 to the set {1, 2, 3, 4}.\n",
        "\n",
        "-->\n",
        "\n",
        "\n",
        "\n",
        "                my_set = {1, 2, 3, 4}\n",
        "                my_set.add(6)\n",
        "                print(my_set)\n",
        "\n"
      ],
      "metadata": {
        "id": "cFRtjSECwUDm"
      }
    },
    {
      "cell_type": "markdown",
      "source": [
        "18. Write a code to create a tuple with the elements 10, 20, 30 and print it.\n",
        "\n",
        "-->\n",
        "\n",
        "                 my_tuple = (10, 20, 30)\n",
        "                 print(my_tuple)\n"
      ],
      "metadata": {
        "id": "ICIa6NucwnJ_"
      }
    },
    {
      "cell_type": "markdown",
      "source": [
        "19. Write a code to access the first element of the tuple ('apple', 'banana', 'cherry')\n",
        "\n",
        "-->\n",
        "\n",
        "\n",
        "               my_tuple = ('apple', 'banana', 'cherry')\n",
        "               first_element = my_tuple[0]\n",
        "               print(first_element)\n"
      ],
      "metadata": {
        "id": "KVazCTFlwyDX"
      }
    },
    {
      "cell_type": "markdown",
      "source": [
        "20. Write a code to count how many times the number 2 appears in the tuple (1, 2, 3, 2, 4, 2).\n",
        "\n",
        "-->\n",
        "\n",
        "           my_tuple = (1, 2, 3, 2, 4, 2)\n",
        "           count_2 = my_tuple.count(2)\n",
        "           print(count_2)\n"
      ],
      "metadata": {
        "id": "9ohyAYexxYlV"
      }
    },
    {
      "cell_type": "markdown",
      "source": [
        "21. Write a code to check if the element \"banana\" is in the tuple ('apple', 'orange', 'banana').\n",
        "\n",
        "-->\n",
        "\n",
        "\n",
        "            my_tuple = ('apple', 'orange', 'banana')\n",
        "            if 'banana' in my_tuple:\n",
        "            print(\"Yes, 'banana' is in the tuple.\")\n",
        "            else:\n",
        "                print(\"No, 'banana' is not in the tuple.\")\n"
      ],
      "metadata": {
        "id": "D-wAu4ZLxnO1"
      }
    },
    {
      "cell_type": "markdown",
      "source": [
        "22.  Write a code to check if the element \"banana\" is in the tuple ('apple', 'orange', 'banana').\n",
        "\n",
        "-->\n",
        "\n",
        "\n",
        "               my_tuple = ('apple', 'orange', 'banana')\n",
        "               if 'banana' in my_tuple:\n",
        "               print(\"Yes, 'banana' is in the tuple.\")\n",
        "               else:\n",
        "                   print(\"No, 'banana' is not in the tuple.\")\n"
      ],
      "metadata": {
        "id": "v2jF7GT7x2HG"
      }
    },
    {
      "cell_type": "markdown",
      "source": [
        "23. Write a code to create a set with the elements 1, 2, 3, 4, 5 and print it.\n",
        "\n",
        "-->\n",
        "      \n",
        "\n",
        "                       my_set = {1, 2, 3, 4, 5}\n",
        "                       print(my_set)\n"
      ],
      "metadata": {
        "id": "O_dKDYNRyEag"
      }
    },
    {
      "cell_type": "markdown",
      "source": [
        "24. Write a code to add the element 6 to the set {1, 2, 3, 4}.\n",
        "\n",
        "-->\n",
        "\n",
        "                    my_set = {1, 2, 3, 4}\n",
        "                    my_set.add(6)\n",
        "                    print(my_set)\n"
      ],
      "metadata": {
        "id": "rVDyfqrCyPAp"
      }
    },
    {
      "cell_type": "code",
      "source": [],
      "metadata": {
        "id": "yKCRsQrZfGUu"
      },
      "execution_count": null,
      "outputs": []
    }
  ]
}